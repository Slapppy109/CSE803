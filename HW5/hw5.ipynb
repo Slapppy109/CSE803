{
 "cells": [
  {
   "cell_type": "markdown",
   "metadata": {},
   "source": [
    "<div style=\"text-align: right\"> Kevin Le </div>\n",
    "<div style=\"text-align: right\"> CSE 803 </div>\n",
    "<div style=\"text-align: right\"> Hw5 </div>"
   ]
  },
  {
   "cell_type": "markdown",
   "metadata": {},
   "source": [
    "## Import"
   ]
  },
  {
   "cell_type": "code",
   "execution_count": 1,
   "metadata": {},
   "outputs": [
    {
     "name": "stderr",
     "output_type": "stream",
     "text": [
      "c:\\Users\\Kevin Le\\AppData\\Local\\Programs\\Python\\Python37\\lib\\site-packages\\tqdm\\auto.py:22: TqdmWarning: IProgress not found. Please update jupyter and ipywidgets. See https://ipywidgets.readthedocs.io/en/stable/user_install.html\n",
      "  from .autonotebook import tqdm as notebook_tqdm\n"
     ]
    }
   ],
   "source": [
    "import numpy as np\n",
    "import matplotlib.pyplot as plt\n",
    "from tqdm import tqdm # Displays a progress bar\n",
    "\n",
    "import torch\n",
    "from torch import nn\n",
    "from torch import optim, Tensor\n",
    "import torch.nn.functional as F\n",
    "from torchvision import datasets, transforms, models\n",
    "from torch.utils.data import Dataset, Subset, DataLoader, random_split\n",
    "\n",
    "import png\n",
    "from colormap.colors import Color, hex2rgb\n",
    "from sklearn.metrics import average_precision_score as ap_score\n",
    "import os\n",
    "from PIL import Image\n",
    "import time"
   ]
  },
  {
   "cell_type": "markdown",
   "metadata": {},
   "source": [
    "## Fashion-MNIST Classification"
   ]
  },
  {
   "cell_type": "markdown",
   "metadata": {},
   "source": [
    "The dataset we use is Fashion-MNIST dataset, which is available at https://github.com/zalandoresearch/\n",
    "fashion-mnist and in torchvision.datasets. Fashion-MNIST has 10 classes, 60000 training+validation\n",
    "images (we have splitted it to have 50000 training images and 10000 validation images, but you can change\n",
    "the numbers), and 10000 test images. We have provided some starter code in part1.py where you need\n",
    "to modify and experiment with the following:\n",
    "\n",
    "* The architecture of the network (define layers and implement forward pass)\n",
    "* The optimizer (SGD, RMSProp, Adam, etc.) and its parameters. (weight decay is the L2 regularization strength)\n",
    "* Training parameters (batch size and number of epochs)\n",
    "\n",
    "You should train your network on training set and change those listed above based on evaluation on the\n",
    "validation set. You should run evalution on the test set only once at the end."
   ]
  },
  {
   "cell_type": "markdown",
   "metadata": {},
   "source": [
    "Complete the following:\n",
    "1. Submit a program which trains with your best combination of model architecture, optimizer and\n",
    "training parameters, and evaluates on the test set to report an accuracy at the end. (15 pts)\n",
    "2. Report the detailed architecture of your best model. Include information on hyperparameters chosen\n",
    "for training and a plot showing both training and validation loss across iterations. (10 pts)\n",
    "3. Report the accuracy of your best model on the test set. We expect you to achieve over 90%. (10 pts)"
   ]
  },
  {
   "cell_type": "code",
   "execution_count": 360,
   "metadata": {},
   "outputs": [
    {
     "name": "stdout",
     "output_type": "stream",
     "text": [
      "Loading datasets...\n",
      "Done!\n"
     ]
    }
   ],
   "source": [
    "# Load the dataset and train, val, test splits\n",
    "print(\"Loading datasets...\")\n",
    "FASHION_transform = transforms.Compose([\n",
    "    transforms.ToTensor(), # Transform from [0,255] uint8 to [0,1] float\n",
    "    transforms.Normalize([0.2859], [0.3530]) # Normalize to zero mean and unit variance\n",
    "])\n",
    "FASHION_trainval = datasets.FashionMNIST('.', download=True, \\\n",
    "    train=True, transform=FASHION_transform)\n",
    "FASHION_train = Subset(FASHION_trainval, range(50000))\n",
    "FASHION_val = Subset(FASHION_trainval, range(50000,60000))\n",
    "FASHION_test = datasets.FashionMNIST('.', download=True, \\\n",
    "    train=False, transform=FASHION_transform)\n",
    "print(\"Done!\")"
   ]
  },
  {
   "cell_type": "markdown",
   "metadata": {},
   "source": [
    "Reference LeNet Architecture: https://d2l.ai/chapter_convolutional-modern/alexnet.html"
   ]
  },
  {
   "cell_type": "code",
   "execution_count": 361,
   "metadata": {},
   "outputs": [],
   "source": [
    "class Network(nn.Module):\n",
    "    def __init__(self):\n",
    "        super().__init__()\n",
    "        self.net = nn.Sequential(\n",
    "            nn.Conv2d(in_channels = 1,out_channels = 6, kernel_size=5, padding=2), nn.ReLU(), \n",
    "            nn.AvgPool2d(kernel_size=2, stride=2),\n",
    "            nn.Conv2d(in_channels = 6,out_channels = 16, kernel_size=5, padding=2), nn.ReLU(),\n",
    "            nn.AvgPool2d(kernel_size=2, stride=2),\n",
    "            nn.Flatten(),\n",
    "            nn.Linear(28*28, 120, bias=True), nn.ReLU(), nn.Dropout(),\n",
    "            nn.Linear(120, 84, bias=True), nn.ReLU(),nn.Dropout(),\n",
    "            nn.Linear(84, 10, bias=True))\n",
    "\n",
    "    def forward(self,x):\n",
    "        x = self.net(x)\n",
    "        return x"
   ]
  },
  {
   "cell_type": "code",
   "execution_count": 362,
   "metadata": {},
   "outputs": [],
   "source": [
    "# Create dataloaders\n",
    "trainloader = DataLoader(FASHION_train, batch_size=512, shuffle=True)\n",
    "valloader = DataLoader(FASHION_val, batch_size=512, shuffle=True)\n",
    "testloader = DataLoader(FASHION_test, batch_size=512, shuffle=True)\n",
    "device = \"cuda\" if torch.cuda.is_available() else \"cpu\" # Configure device\n",
    "model = Network().to(device)\n",
    "criterion = nn.CrossEntropyLoss() # Specify the loss layer\n",
    "optimizer = optim.Adam(model.parameters(), lr=1e-2, weight_decay=1e-10)\n",
    "num_epoch = 30"
   ]
  },
  {
   "cell_type": "code",
   "execution_count": 363,
   "metadata": {},
   "outputs": [],
   "source": [
    "def train(model, loader, num_epoch = 10): # Train the model\n",
    "    print(\"Start training...\")\n",
    "    model.train() # Set the model to training mode\n",
    "    total_loss = []\n",
    "    total_acc = []\n",
    "    for i in range(num_epoch):\n",
    "        running_loss = []\n",
    "        total = 0\n",
    "        correct = 0\n",
    "        for batch, label in tqdm(loader):\n",
    "            batch = batch.to(device)\n",
    "            label = label.to(device)\n",
    "            optimizer.zero_grad() # Clear gradients from the previous iteration\n",
    "            pred = model(batch) # This will call Network.forward() that you implement\n",
    "            loss = criterion(pred, label) # Calculate the loss\n",
    "            running_loss.append(loss.item())\n",
    "            loss.backward() # Backprop gradients to all tensors in the network\n",
    "            optimizer.step() # Update trainable weights\n",
    "            \n",
    "            _, predicted = pred.max(1)\n",
    "            total += label.size(0)\n",
    "            correct += predicted.eq(label).sum().item()\n",
    "            accu = 100. * correct/total\n",
    "            total_acc.append(accu)\n",
    "        total_loss += running_loss\n",
    "        print(\"Epoch {} loss:{}\".format(i+1,np.mean(running_loss)))\n",
    "    print(\"Done!\")\n",
    "    return total_loss, total_acc\n",
    "\n",
    "def evaluate(model, loader): # Evaluate accuracy on validation / test set\n",
    "    model.eval() # Set the model to evaluation mode\n",
    "    correct = 0\n",
    "    with torch.no_grad(): # Do not calculate grident to speed up computation\n",
    "        for batch, label in tqdm(loader):\n",
    "            batch = batch.to(device)\n",
    "            label = label.to(device)\n",
    "            pred = model(batch)\n",
    "            correct += (torch.argmax(pred,dim=1)==label).sum().item()\n",
    "    acc = correct/len(loader.dataset)\n",
    "    print(\"Evaluation accuracy: {}\".format(acc))\n",
    "    return acc"
   ]
  },
  {
   "cell_type": "code",
   "execution_count": 364,
   "metadata": {},
   "outputs": [
    {
     "name": "stdout",
     "output_type": "stream",
     "text": [
      "Start training...\n"
     ]
    },
    {
     "name": "stderr",
     "output_type": "stream",
     "text": [
      "100%|██████████| 98/98 [00:13<00:00,  7.16it/s]\n"
     ]
    },
    {
     "name": "stdout",
     "output_type": "stream",
     "text": [
      "Epoch 1 loss:0.8728394131271207\n"
     ]
    },
    {
     "name": "stderr",
     "output_type": "stream",
     "text": [
      "100%|██████████| 98/98 [00:13<00:00,  7.18it/s]\n"
     ]
    },
    {
     "name": "stdout",
     "output_type": "stream",
     "text": [
      "Epoch 2 loss:0.5344539658755673\n"
     ]
    },
    {
     "name": "stderr",
     "output_type": "stream",
     "text": [
      "100%|██████████| 98/98 [00:14<00:00,  6.76it/s]\n"
     ]
    },
    {
     "name": "stdout",
     "output_type": "stream",
     "text": [
      "Epoch 3 loss:0.4591353067329952\n"
     ]
    },
    {
     "name": "stderr",
     "output_type": "stream",
     "text": [
      "100%|██████████| 98/98 [00:14<00:00,  6.59it/s]\n"
     ]
    },
    {
     "name": "stdout",
     "output_type": "stream",
     "text": [
      "Epoch 4 loss:0.42712489165821854\n"
     ]
    },
    {
     "name": "stderr",
     "output_type": "stream",
     "text": [
      "100%|██████████| 98/98 [00:15<00:00,  6.45it/s]\n"
     ]
    },
    {
     "name": "stdout",
     "output_type": "stream",
     "text": [
      "Epoch 5 loss:0.4019834691164445\n"
     ]
    },
    {
     "name": "stderr",
     "output_type": "stream",
     "text": [
      "100%|██████████| 98/98 [00:14<00:00,  6.59it/s]\n"
     ]
    },
    {
     "name": "stdout",
     "output_type": "stream",
     "text": [
      "Epoch 6 loss:0.3882845491170883\n"
     ]
    },
    {
     "name": "stderr",
     "output_type": "stream",
     "text": [
      "100%|██████████| 98/98 [00:15<00:00,  6.38it/s]\n"
     ]
    },
    {
     "name": "stdout",
     "output_type": "stream",
     "text": [
      "Epoch 7 loss:0.3752901624051892\n"
     ]
    },
    {
     "name": "stderr",
     "output_type": "stream",
     "text": [
      "100%|██████████| 98/98 [00:14<00:00,  6.96it/s]\n"
     ]
    },
    {
     "name": "stdout",
     "output_type": "stream",
     "text": [
      "Epoch 8 loss:0.3664280458980677\n"
     ]
    },
    {
     "name": "stderr",
     "output_type": "stream",
     "text": [
      "100%|██████████| 98/98 [00:13<00:00,  7.03it/s]\n"
     ]
    },
    {
     "name": "stdout",
     "output_type": "stream",
     "text": [
      "Epoch 9 loss:0.3586984389290518\n"
     ]
    },
    {
     "name": "stderr",
     "output_type": "stream",
     "text": [
      "100%|██████████| 98/98 [00:15<00:00,  6.36it/s]\n"
     ]
    },
    {
     "name": "stdout",
     "output_type": "stream",
     "text": [
      "Epoch 10 loss:0.35054217795936427\n"
     ]
    },
    {
     "name": "stderr",
     "output_type": "stream",
     "text": [
      "100%|██████████| 98/98 [00:15<00:00,  6.51it/s]\n"
     ]
    },
    {
     "name": "stdout",
     "output_type": "stream",
     "text": [
      "Epoch 11 loss:0.348541155761602\n"
     ]
    },
    {
     "name": "stderr",
     "output_type": "stream",
     "text": [
      "100%|██████████| 98/98 [00:14<00:00,  6.67it/s]\n"
     ]
    },
    {
     "name": "stdout",
     "output_type": "stream",
     "text": [
      "Epoch 12 loss:0.33954120016827877\n"
     ]
    },
    {
     "name": "stderr",
     "output_type": "stream",
     "text": [
      "100%|██████████| 98/98 [00:14<00:00,  6.84it/s]\n"
     ]
    },
    {
     "name": "stdout",
     "output_type": "stream",
     "text": [
      "Epoch 13 loss:0.3396487722591478\n"
     ]
    },
    {
     "name": "stderr",
     "output_type": "stream",
     "text": [
      "100%|██████████| 98/98 [00:14<00:00,  6.90it/s]\n"
     ]
    },
    {
     "name": "stdout",
     "output_type": "stream",
     "text": [
      "Epoch 14 loss:0.3357468838898503\n"
     ]
    },
    {
     "name": "stderr",
     "output_type": "stream",
     "text": [
      "100%|██████████| 98/98 [00:15<00:00,  6.42it/s]\n"
     ]
    },
    {
     "name": "stdout",
     "output_type": "stream",
     "text": [
      "Epoch 15 loss:0.3354458121620879\n"
     ]
    },
    {
     "name": "stderr",
     "output_type": "stream",
     "text": [
      "100%|██████████| 98/98 [00:13<00:00,  7.05it/s]\n"
     ]
    },
    {
     "name": "stdout",
     "output_type": "stream",
     "text": [
      "Epoch 16 loss:0.3253808118859116\n"
     ]
    },
    {
     "name": "stderr",
     "output_type": "stream",
     "text": [
      "100%|██████████| 98/98 [00:14<00:00,  6.66it/s]\n"
     ]
    },
    {
     "name": "stdout",
     "output_type": "stream",
     "text": [
      "Epoch 17 loss:0.32015205083452924\n"
     ]
    },
    {
     "name": "stderr",
     "output_type": "stream",
     "text": [
      "100%|██████████| 98/98 [00:14<00:00,  6.97it/s]\n"
     ]
    },
    {
     "name": "stdout",
     "output_type": "stream",
     "text": [
      "Epoch 18 loss:0.31832510445799145\n"
     ]
    },
    {
     "name": "stderr",
     "output_type": "stream",
     "text": [
      "100%|██████████| 98/98 [00:14<00:00,  6.94it/s]\n"
     ]
    },
    {
     "name": "stdout",
     "output_type": "stream",
     "text": [
      "Epoch 19 loss:0.31928050898167554\n"
     ]
    },
    {
     "name": "stderr",
     "output_type": "stream",
     "text": [
      "100%|██████████| 98/98 [00:13<00:00,  7.02it/s]\n"
     ]
    },
    {
     "name": "stdout",
     "output_type": "stream",
     "text": [
      "Epoch 20 loss:0.3079590624084278\n"
     ]
    },
    {
     "name": "stderr",
     "output_type": "stream",
     "text": [
      "100%|██████████| 98/98 [00:14<00:00,  6.96it/s]\n"
     ]
    },
    {
     "name": "stdout",
     "output_type": "stream",
     "text": [
      "Epoch 21 loss:0.30858348218762144\n"
     ]
    },
    {
     "name": "stderr",
     "output_type": "stream",
     "text": [
      "100%|██████████| 98/98 [00:14<00:00,  6.96it/s]\n"
     ]
    },
    {
     "name": "stdout",
     "output_type": "stream",
     "text": [
      "Epoch 22 loss:0.3111142821762027\n"
     ]
    },
    {
     "name": "stderr",
     "output_type": "stream",
     "text": [
      "100%|██████████| 98/98 [00:14<00:00,  6.74it/s]\n"
     ]
    },
    {
     "name": "stdout",
     "output_type": "stream",
     "text": [
      "Epoch 23 loss:0.30484273132621026\n"
     ]
    },
    {
     "name": "stderr",
     "output_type": "stream",
     "text": [
      "100%|██████████| 98/98 [00:14<00:00,  6.68it/s]\n"
     ]
    },
    {
     "name": "stdout",
     "output_type": "stream",
     "text": [
      "Epoch 24 loss:0.31712429453523794\n"
     ]
    },
    {
     "name": "stderr",
     "output_type": "stream",
     "text": [
      "100%|██████████| 98/98 [00:15<00:00,  6.50it/s]\n"
     ]
    },
    {
     "name": "stdout",
     "output_type": "stream",
     "text": [
      "Epoch 25 loss:0.3056552857160568\n"
     ]
    },
    {
     "name": "stderr",
     "output_type": "stream",
     "text": [
      "100%|██████████| 98/98 [00:15<00:00,  6.51it/s]\n"
     ]
    },
    {
     "name": "stdout",
     "output_type": "stream",
     "text": [
      "Epoch 26 loss:0.30569510405160943\n"
     ]
    },
    {
     "name": "stderr",
     "output_type": "stream",
     "text": [
      "100%|██████████| 98/98 [00:16<00:00,  6.06it/s]\n"
     ]
    },
    {
     "name": "stdout",
     "output_type": "stream",
     "text": [
      "Epoch 27 loss:0.3083297584433945\n"
     ]
    },
    {
     "name": "stderr",
     "output_type": "stream",
     "text": [
      "100%|██████████| 98/98 [00:15<00:00,  6.42it/s]\n"
     ]
    },
    {
     "name": "stdout",
     "output_type": "stream",
     "text": [
      "Epoch 28 loss:0.30232590969119755\n"
     ]
    },
    {
     "name": "stderr",
     "output_type": "stream",
     "text": [
      "100%|██████████| 98/98 [00:14<00:00,  6.75it/s]\n"
     ]
    },
    {
     "name": "stdout",
     "output_type": "stream",
     "text": [
      "Epoch 29 loss:0.29562244214573685\n"
     ]
    },
    {
     "name": "stderr",
     "output_type": "stream",
     "text": [
      "100%|██████████| 98/98 [00:14<00:00,  6.84it/s]"
     ]
    },
    {
     "name": "stdout",
     "output_type": "stream",
     "text": [
      "Epoch 30 loss:0.29640816197711595\n",
      "Done!\n"
     ]
    },
    {
     "name": "stderr",
     "output_type": "stream",
     "text": [
      "\n"
     ]
    }
   ],
   "source": [
    "loss_history, acc_history = train(model, trainloader, num_epoch)\n"
   ]
  },
  {
   "cell_type": "code",
   "execution_count": 365,
   "metadata": {},
   "outputs": [
    {
     "name": "stdout",
     "output_type": "stream",
     "text": [
      "Evaluate on validation set...\n"
     ]
    },
    {
     "name": "stderr",
     "output_type": "stream",
     "text": [
      "100%|██████████| 20/20 [00:02<00:00,  9.62it/s]\n"
     ]
    },
    {
     "name": "stdout",
     "output_type": "stream",
     "text": [
      "Evaluation accuracy: 0.9041\n",
      "Evaluate on test set\n"
     ]
    },
    {
     "name": "stderr",
     "output_type": "stream",
     "text": [
      "100%|██████████| 20/20 [00:01<00:00, 10.39it/s]"
     ]
    },
    {
     "name": "stdout",
     "output_type": "stream",
     "text": [
      "Evaluation accuracy: 0.8986\n"
     ]
    },
    {
     "name": "stderr",
     "output_type": "stream",
     "text": [
      "\n"
     ]
    },
    {
     "data": {
      "text/plain": [
       "0.8986"
      ]
     },
     "execution_count": 365,
     "metadata": {},
     "output_type": "execute_result"
    }
   ],
   "source": [
    "print(\"Evaluate on validation set...\")\n",
    "evaluate(model, valloader)\n",
    "print(\"Evaluate on test set\")\n",
    "evaluate(model, testloader)"
   ]
  },
  {
   "cell_type": "code",
   "execution_count": 374,
   "metadata": {},
   "outputs": [
    {
     "data": {
      "image/png": "[encoded data removed]",
      "text/plain": [
       "<Figure size 640x480 with 1 Axes>"
      ]
     },
     "metadata": {},
     "output_type": "display_data"
    }
   ],
   "source": [
    "plt.plot(loss_history)\n",
    "plt.xlabel(\"Iterations\")\n",
    "plt.ylabel(\"Loss\")\n",
    "plt.title(\"Iterations vs Loss\")\n",
    "plt.show()"
   ]
  },
  {
   "cell_type": "code",
   "execution_count": 367,
   "metadata": {},
   "outputs": [
    {
     "data": {
      "image/png": "[encoded data removed]",
      "text/plain": [
       "<Figure size 640x480 with 1 Axes>"
      ]
     },
     "metadata": {},
     "output_type": "display_data"
    }
   ],
   "source": [
    "plt.plot(acc_history)\n",
    "plt.xlabel(\"Iterations\")\n",
    "plt.ylabel(\"Accuracy\")\n",
    "plt.title(\"Iterations vs Accuracy\")\n",
    "plt.show()"
   ]
  },
  {
   "cell_type": "markdown",
   "metadata": {},
   "source": [
    "Training Hyperparameters:\n",
    "* Batch size = 512\n",
    "* Learning Rate = $1e^{-2}$\n",
    "* Decay Weight = $1e^{-10}$\n",
    "\n",
    "* Number of Epoch = 30\n",
    "\n",
    "Model was able to have ~90% accuracy while using the LeNet architecture"
   ]
  },
  {
   "cell_type": "markdown",
   "metadata": {},
   "source": [
    "## Activation Visualization"
   ]
  },
  {
   "cell_type": "markdown",
   "metadata": {},
   "source": [
    "To observe a meaningful pattern, we construct a custom dataset that localizes the Fashion-MNIST image\n",
    "with the help of MNIST images. Each image in this new dataset will be a 2×2 grid of one Fashion-MNIST image and three MNIST images. The Fashion-MNIST image is placed at a random grid, where\n",
    "the other three grids will be randomly-chosen MNIST images. This part is implemented for you in class\n",
    "GridDataset.\n",
    "\n",
    "To apply the visualization method, our network needs to contain a global average pooling (GAP) layer\n",
    "followed by a linear layer at the end. When visualizing, we replace GAP and linear layers with a 1×1\n",
    "convolution layer using weights from the linear layer. Instead of C class scores, the network output is now\n",
    "C 2D arrays corresponding to each of the C classes. If we plot them as heatmaps as shown in the figure\n",
    "below, we should see that at ground truth class, activation is higher at the position of the Fashion-MNIST\n",
    "image in the input image, implying that our model has learned to \"look at\" only the Fashion-MNIST images\n",
    "for classification."
   ]
  },
  {
   "cell_type": "markdown",
   "metadata": {},
   "source": [
    "Notes on dimensions:\n",
    "1. A global average pooling layer reduces each H × W channel to a single value by simply taking the\n",
    "average of all HW values.\n",
    "2. Suppose the input to GAP layer in the original network has shape (F, H, W), it will become (F, 1, 1)\n",
    "after GAP layer, so the linear layer has weight of shape (F, C). In the adapted network, the 1×1 conv\n",
    "layer has F input channels and C output channels, and therefore has weight of shape (F, C, 1, 1).\n",
    "Since linear layer and 1×1 conv layer have weights of the same size, we can transfer weights from\n",
    "the former to the latter with a simple reshaping.\n",
    "3. In PyTorch, the shape of a data tensor always has a dimension for batch size N, which is the first\n",
    "dimension"
   ]
  },
  {
   "cell_type": "markdown",
   "metadata": {},
   "source": [
    "Complete the following:\n",
    "1. Report the detailed architecture of your self.base module. Include information on hyperparam\u0002eters chosen for training, and the accuracy on the test set. To make the visualization look nice, you\n",
    "should achieve over 80% on the test set. (10 pts)\n",
    "2. Choose a correctly classified image from the evaluation on test set. Report its index in the test set and\n",
    "include plots of both the image and the activation maps of all classes. (10 pts)\n",
    "3. Submit a program which contains your best combination of self.base mudule, optimizer and\n",
    "training parameters, along with the code to select a correctly classified image and to visualize the\n",
    "results. (15 pts)\n"
   ]
  },
  {
   "cell_type": "code",
   "execution_count": 376,
   "metadata": {},
   "outputs": [],
   "source": [
    "MNIST_transform = transforms.Compose([\n",
    "    transforms.ToTensor(),\n",
    "    transforms.Normalize([0.1307], [0.3081])\n",
    "])\n",
    "MNIST_train = datasets.MNIST('.', download=True, train = True, transform=MNIST_transform)\n",
    "MNIST_test = datasets.MNIST('.', download=True, train = False, transform=MNIST_transform)\n",
    "FASHION_transform = transforms.Compose([\n",
    "    transforms.ToTensor(),\n",
    "    transforms.Normalize([0.2859], [0.3530])\n",
    "])\n",
    "FASHION_train = datasets.FashionMNIST('.', download=True, \\\n",
    "    train=True, transform=MNIST_transform)\n",
    "FASHION_test = datasets.FashionMNIST('.', download=True, \\\n",
    "    train=False, transform=FASHION_transform)"
   ]
  },
  {
   "cell_type": "code",
   "execution_count": 377,
   "metadata": {},
   "outputs": [],
   "source": [
    "class GridDataset(Dataset):\n",
    "    def __init__(self, MNIST_dataset, FASHION_dataset): # pass in dataset\n",
    "        assert len(MNIST_dataset) == len(FASHION_dataset)\n",
    "        self.MNIST_dataset, self.FASHION_dataset = MNIST_dataset, FASHION_dataset\n",
    "        self.targets = FASHION_dataset.targets\n",
    "        torch.manual_seed(442) # Fix random seed for reproducibility\n",
    "        N = len(MNIST_dataset)\n",
    "        self.randpos = torch.randint(low=0,high=4,size=(N,)) # position of the FASHION-MNIST image\n",
    "        self.randidx = torch.randint(low=0,high=N,size=(N,3)) # indices of MNIST images\n",
    "    \n",
    "    def __len__(self):\n",
    "        return len(self.MNIST_dataset)\n",
    "    \n",
    "    def __getitem__(self,idx): \n",
    "        idx1, idx2, idx3 = self.randidx[idx]\n",
    "        x = self.randpos[idx]%2\n",
    "        y = self.randpos[idx]//2\n",
    "        p1 = self.FASHION_dataset.__getitem__(idx)[0]\n",
    "        p2 = self.MNIST_dataset.__getitem__(idx1)[0]\n",
    "        p3 = self.MNIST_dataset.__getitem__(idx2)[0]\n",
    "        p4 = self.MNIST_dataset.__getitem__(idx3)[0]\n",
    "        combo = torch.cat((torch.cat((p1,p2),2),torch.cat((p3,p4),2)),1)\n",
    "        combo = torch.roll(combo, (x*28,y*28), dims=(0,1))\n",
    "        return (combo,self.targets[idx])"
   ]
  },
  {
   "cell_type": "code",
   "execution_count": 404,
   "metadata": {},
   "outputs": [],
   "source": [
    "class Network(nn.Module):\n",
    "    def __init__(self):\n",
    "        super().__init__()\n",
    "        # TODO: Design your own base module, define layers here\n",
    "        self.base = nn.Sequential(\n",
    "            nn.Conv2d(in_channels = 1,out_channels = 6, kernel_size=5, padding=2), \n",
    "            nn.ReLU(inplace=True),\n",
    "            nn.AvgPool2d(kernel_size=2, stride=2),\n",
    "            nn.Conv2d(in_channels = 6,out_channels = 16, kernel_size=5, padding=2), \n",
    "            nn.ReLU(inplace=True),\n",
    "            nn.AvgPool2d(kernel_size=2, stride=2),\n",
    "            nn.Conv2d(in_channels= 16, out_channels= 128, kernel_size= 5, padding= 2), \n",
    "            nn.ReLU(inplace=True),\n",
    "            nn.AvgPool2d(kernel_size=2, stride=2),\n",
    "            nn.Conv2d(in_channels= 128, out_channels= 128, kernel_size= 5, padding= 2),\n",
    "            nn.Conv2d(in_channels= 128, out_channels= 128, kernel_size= 5, padding= 2),\n",
    "\n",
    "        )\n",
    "        out_channel = 128 \n",
    "        self.avgpool = nn.AdaptiveAvgPool2d(1)\n",
    "        self.fc = nn.Linear(out_channel,10)\n",
    "        self.conv = nn.Conv2d(out_channel,10,1) # 1x1 conv layer (substitutes fc)\n",
    "\n",
    "    def transfer(self): # Copy weights of fc layer into 1x1 conv layer\n",
    "        self.conv.weight = nn.Parameter(self.fc.weight.unsqueeze(2).unsqueeze(3))\n",
    "        self.conv.bias = nn.Parameter(self.fc.bias)\n",
    "\n",
    "    def visualize(self,x):\n",
    "        x = self.base(x)\n",
    "        x = self.conv(x)\n",
    "        return x\n",
    "        \n",
    "    def forward(self,x):\n",
    "        x = self.base(x)\n",
    "        x = self.avgpool(x)\n",
    "        x = x.view(x.size(0),-1)\n",
    "        x = self.fc(x)\n",
    "        return x"
   ]
  },
  {
   "cell_type": "code",
   "execution_count": 405,
   "metadata": {},
   "outputs": [],
   "source": [
    "def train(model, loader, num_epoch = 10): # Train the model\n",
    "    print(\"Start training...\")\n",
    "    model.train() # Set the model to training mode\n",
    "    for i in range(num_epoch):\n",
    "        running_loss = []\n",
    "        for batch, label in tqdm(loader):\n",
    "            batch = batch.to(device)\n",
    "            label = label.to(device)\n",
    "            optimizer.zero_grad() # Clear gradients from the previous iteration\n",
    "            pred = model(batch) # This will call Network.forward() that you implement\n",
    "            loss = criterion(pred, label) # Calculate the loss\n",
    "            running_loss.append(loss.item())\n",
    "            loss.backward() # Backprop gradients to all tensors in the network\n",
    "            optimizer.step() # Update trainable weights\n",
    "        print(\"Epoch {} loss:{}\".format(i+1,np.mean(running_loss))) \n",
    "    print(\"Done!\")\n",
    "\n",
    "def evaluate(model, loader): # Evaluate accuracy on validation / test set\n",
    "    model.eval() # Set the model to evaluation mode\n",
    "    correct = 0\n",
    "    i = 0\n",
    "    cor_img = None\n",
    "    cor_idx = -1\n",
    "    with torch.no_grad(): # Do not calculate grident to speed up computation\n",
    "        for batch, label in tqdm(loader):\n",
    "            batch = batch.to(device)\n",
    "            label = label.to(device)\n",
    "            pred = model(batch)\n",
    "            correct += (torch.argmax(pred,dim=1)==label).sum().item()\n",
    "            if torch.argmax(pred[0]) == label[0] and cor_idx == -1:\n",
    "                cor_img = batch[0]\n",
    "                cor_idx = i\n",
    "            i += 1\n",
    "    acc = correct/len(loader.dataset)\n",
    "    print(\"Evaluation accuracy: {}\".format(acc))\n",
    "    return acc, cor_idx, cor_img"
   ]
  },
  {
   "cell_type": "code",
   "execution_count": 406,
   "metadata": {},
   "outputs": [],
   "source": [
    "trainset = GridDataset(MNIST_train, FASHION_train)\n",
    "testset = GridDataset(MNIST_test, FASHION_test)"
   ]
  },
  {
   "cell_type": "code",
   "execution_count": 411,
   "metadata": {},
   "outputs": [],
   "source": [
    "device = \"cuda\" if torch.cuda.is_available() else \"cpu\"\n",
    "trainloader = DataLoader(trainset, batch_size=64, shuffle=True)\n",
    "testloader = DataLoader(testset, batch_size=64, shuffle=True)\n",
    "model = Network().to(device)\n",
    "criterion = nn.CrossEntropyLoss()\n",
    "optimizer = optim.Adam(model.parameters(), lr=0.001, weight_decay=1e-8)\n",
    "num_epoch = 10 "
   ]
  },
  {
   "cell_type": "code",
   "execution_count": 412,
   "metadata": {},
   "outputs": [
    {
     "name": "stdout",
     "output_type": "stream",
     "text": [
      "Start training...\n"
     ]
    },
    {
     "name": "stderr",
     "output_type": "stream",
     "text": [
      "100%|██████████| 938/938 [02:09<00:00,  7.23it/s]\n"
     ]
    },
    {
     "name": "stdout",
     "output_type": "stream",
     "text": [
      "Epoch 1 loss:0.7651730570584726\n"
     ]
    },
    {
     "name": "stderr",
     "output_type": "stream",
     "text": [
      "100%|██████████| 938/938 [02:09<00:00,  7.26it/s]\n"
     ]
    },
    {
     "name": "stdout",
     "output_type": "stream",
     "text": [
      "Epoch 2 loss:0.4480507800669304\n"
     ]
    },
    {
     "name": "stderr",
     "output_type": "stream",
     "text": [
      "100%|██████████| 938/938 [02:09<00:00,  7.25it/s]\n"
     ]
    },
    {
     "name": "stdout",
     "output_type": "stream",
     "text": [
      "Epoch 3 loss:0.3702476541958511\n"
     ]
    },
    {
     "name": "stderr",
     "output_type": "stream",
     "text": [
      "100%|██████████| 938/938 [02:09<00:00,  7.24it/s]\n"
     ]
    },
    {
     "name": "stdout",
     "output_type": "stream",
     "text": [
      "Epoch 4 loss:0.3265210684380933\n"
     ]
    },
    {
     "name": "stderr",
     "output_type": "stream",
     "text": [
      "100%|██████████| 938/938 [02:09<00:00,  7.26it/s]\n"
     ]
    },
    {
     "name": "stdout",
     "output_type": "stream",
     "text": [
      "Epoch 5 loss:0.29567944897072657\n"
     ]
    },
    {
     "name": "stderr",
     "output_type": "stream",
     "text": [
      "100%|██████████| 938/938 [02:11<00:00,  7.15it/s]\n"
     ]
    },
    {
     "name": "stdout",
     "output_type": "stream",
     "text": [
      "Epoch 6 loss:0.27857478677845204\n"
     ]
    },
    {
     "name": "stderr",
     "output_type": "stream",
     "text": [
      "100%|██████████| 938/938 [02:10<00:00,  7.17it/s]\n"
     ]
    },
    {
     "name": "stdout",
     "output_type": "stream",
     "text": [
      "Epoch 7 loss:0.2605642321537425\n"
     ]
    },
    {
     "name": "stderr",
     "output_type": "stream",
     "text": [
      "100%|██████████| 938/938 [02:10<00:00,  7.19it/s]\n"
     ]
    },
    {
     "name": "stdout",
     "output_type": "stream",
     "text": [
      "Epoch 8 loss:0.24834212923704435\n"
     ]
    },
    {
     "name": "stderr",
     "output_type": "stream",
     "text": [
      "100%|██████████| 938/938 [02:10<00:00,  7.19it/s]\n"
     ]
    },
    {
     "name": "stdout",
     "output_type": "stream",
     "text": [
      "Epoch 9 loss:0.23252843275094337\n"
     ]
    },
    {
     "name": "stderr",
     "output_type": "stream",
     "text": [
      "100%|██████████| 938/938 [02:08<00:00,  7.27it/s]\n"
     ]
    },
    {
     "name": "stdout",
     "output_type": "stream",
     "text": [
      "Epoch 10 loss:0.21947194009558604\n",
      "Done!\n"
     ]
    },
    {
     "name": "stderr",
     "output_type": "stream",
     "text": [
      "100%|██████████| 157/157 [00:11<00:00, 14.05it/s]"
     ]
    },
    {
     "name": "stdout",
     "output_type": "stream",
     "text": [
      "Evaluation accuracy: 0.8283\n"
     ]
    },
    {
     "name": "stderr",
     "output_type": "stream",
     "text": [
      "\n"
     ]
    }
   ],
   "source": [
    "train(model, trainloader)\n",
    "acc, idx, img = evaluate(model, testloader)\n",
    "\n",
    "model.transfer() # Copy the weights from fc layer to 1x1 conv layer"
   ]
  },
  {
   "cell_type": "code",
   "execution_count": 428,
   "metadata": {},
   "outputs": [
    {
     "data": {
      "text/plain": [
       "(-0.5, 55.5, 55.5, -0.5)"
      ]
     },
     "execution_count": 428,
     "metadata": {},
     "output_type": "execute_result"
    },
    {
     "data": {
      "image/png": "[encoded data removed]",
      "text/plain": [
       "<Figure size 640x480 with 1 Axes>"
      ]
     },
     "metadata": {},
     "output_type": "display_data"
    }
   ],
   "source": [
    "img = img.reshape([1, img.shape[0], img.shape[1], img.shape[2]])\n",
    "act_layer = model.visualize(img)\n",
    "\n",
    "plt.imshow(Tensor.cpu(img).numpy().reshape([img.shape[2],img.shape[3]]), cmap='gray')\n",
    "plt.title('Input Image', fontsize=16)\n",
    "plt.axis('off')\n"
   ]
  },
  {
   "cell_type": "code",
   "execution_count": 462,
   "metadata": {},
   "outputs": [
    {
     "data": {
      "image/png": "[encoded data removed]",
      "text/plain": [
       "<Figure size 1800x1000 with 10 Axes>"
      ]
     },
     "metadata": {},
     "output_type": "display_data"
    },
    {
     "name": "stdout",
     "output_type": "stream",
     "text": [
      "Test set Index: 0\n"
     ]
    }
   ],
   "source": [
    "f, ax = plt.subplots(2, 5)\n",
    "f.suptitle(\"Activation map for each class\", fontsize=16)\n",
    "ax[0,0].imshow(Tensor.cpu(act_layer.detach()).numpy()[0][0], cmap='gray')\n",
    "ax[0,0].set_title('0', fontsize=16)\n",
    "ax[0,0].axis('off')\n",
    "\n",
    "ax[0,1].imshow(Tensor.cpu(act_layer.detach()).numpy()[0][1], cmap='gray')\n",
    "ax[0,1].set_title('1', fontsize=16)\n",
    "ax[0,1].axis('off')\n",
    "\n",
    "ax[0,2].imshow(Tensor.cpu(act_layer.detach()).numpy()[0][2], cmap='gray')\n",
    "ax[0,2].set_title('2', fontsize=16)\n",
    "ax[0,2].axis('off')\n",
    "\n",
    "ax[0,3].imshow(Tensor.cpu(act_layer.detach()).numpy()[0][3], cmap='gray')\n",
    "ax[0,3].set_title('3', fontsize=16)\n",
    "ax[0,3].axis('off')\n",
    "\n",
    "ax[0,4].imshow(Tensor.cpu(act_layer.detach()).numpy()[0][4], cmap='gray')\n",
    "ax[0,4].set_title('4', fontsize=16)\n",
    "ax[0,4].axis('off')\n",
    "\n",
    "ax[1,0].imshow(Tensor.cpu(act_layer.detach()).numpy()[0][5], cmap='gray')\n",
    "ax[1,0].set_title('5', fontsize=16)\n",
    "ax[1,0].axis('off')\n",
    "\n",
    "ax[1,1].imshow(Tensor.cpu(act_layer.detach()).numpy()[0][6], cmap='gray')\n",
    "ax[1,1].set_title('6', fontsize=16)\n",
    "ax[1,1].axis('off')\n",
    "\n",
    "ax[1,2].imshow(Tensor.cpu(act_layer.detach()).numpy()[0][7], cmap='gray')\n",
    "ax[1,2].set_title('7', fontsize=16)\n",
    "ax[1,2].axis('off')\n",
    "\n",
    "ax[1,3].imshow(Tensor.cpu(act_layer.detach()).numpy()[0][8], cmap='gray')\n",
    "ax[1,3].set_title('8', fontsize=16)\n",
    "ax[1,3].axis('off')\n",
    "\n",
    "ax[1,4].imshow(Tensor.cpu(act_layer.detach()).numpy()[0][9], cmap='gray')\n",
    "ax[1,4].set_title('9', fontsize=16)\n",
    "ax[1,4].axis('off')\n",
    "\n",
    "plt.gcf().set_size_inches(18, 10)\n",
    "plt.show()\n",
    "\n",
    "print(f\"Test set Index: {idx}\")"
   ]
  },
  {
   "cell_type": "markdown",
   "metadata": {},
   "source": [
    "The network was based off of Q1 network, but instead of using linear layers, 3 convolutional layers were used instead, with the output channel being set to 128.\n",
    "The hyperparameters were chosen similarly to the previous question, but then arbitarily changed until it hit the evaluation accuracy of above 80%.\n",
    "\n",
    "Training Hyperparameters:\n",
    "* Batch size = 64\n",
    "* Learning Rate = $1e^{-2}$\n",
    "* Decay Weight = $1e^{-8}$\n",
    "* Number of Epoch = 10\n",
    "\n",
    "Evaluation Accuracy: ~82%\n"
   ]
  },
  {
   "cell_type": "markdown",
   "metadata": {},
   "source": [
    "## Semantic Segmentation"
   ]
  },
  {
   "cell_type": "markdown",
   "metadata": {},
   "source": [
    "Besides image classification, Convolutional Neural Networks can also generate dense predictions. A popular\n",
    "application is semantic segmentation. In this part, you will design and implement your Convolutional Neural\n",
    "Networks to perform semantic segmentation on the Mini Facade dataset.\n",
    "\n",
    "Mini Facade dataset consists of images of different cities around the world and diverse architectural styles\n",
    "(in .jpg format), shown as the image on the left. It also contains semantic segmentation labels (in .png\n",
    "format) in 5 different classes: balcony, window, pillar, facade and others. Your task is to\n",
    "train a network to convert image on the left to the labels on the right"
   ]
  },
  {
   "cell_type": "markdown",
   "metadata": {},
   "source": [
    "Complete the following:\n",
    "1. Report the detailed architecture of your model. Include information on hyperparameters chosen for\n",
    "training and a plot showing both training and validation loss across iterations. (10 pts)\n",
    "2. Report the average precision on the test set. You can use provided function to calculate AP on the test\n",
    "set. You should only evaluate your model on the test set once. All hyperparameter tuning should be\n",
    "done on the validation set. We expect you to to achieve 0.45 AP on the test set. (10 pts)\n",
    "5\n",
    "3. Submit a program which contains your best combination of self.base module, optimizer and\n",
    "training parameters. (5 pts)\n",
    "4. Select or take a photo of any building, preprocess it as you like and input it to your best trained\n",
    "model. Plot the output labels and comment qualitatively on why it works or doesn’t work. Submit\n",
    "the image as input.jpg and the output labels as output.png. (5 pts) Like HW1 Part3, we\n",
    "will have a contest where every student can vote for the best-labeled images. The winner will get\n",
    "Extra Credits.(2 pts)"
   ]
  },
  {
   "cell_type": "markdown",
   "metadata": {},
   "source": [
    "Referenced UNet: \n",
    "* https://towardsdatascience.com/creating-and-training-a-u-net-model-with-pytorch-for-2d-3d-semantic-segmentation-model-building-6ab09d6a0862\n",
    "* https://github.com/jaxony/unet-pytorch/blob/master/model.py"
   ]
  },
  {
   "cell_type": "code",
   "execution_count": 156,
   "metadata": {},
   "outputs": [],
   "source": [
    "N_CLASS = 5\n",
    "def save_label(label, path):\n",
    "    '''\n",
    "    Function for ploting labels.\n",
    "    '''\n",
    "    colormap = [\n",
    "        '#000000',\n",
    "        '#0080FF',\n",
    "        '#80FF80',\n",
    "        '#FF8000',\n",
    "        '#FF0000',\n",
    "    ]\n",
    "    assert(np.max(label)<len(colormap))\n",
    "    colors = [hex2rgb(color, normalise=False) for color in colormap]\n",
    "    w = png.Writer(label.shape[1], label.shape[0], palette=colors, bitdepth=4)\n",
    "    with open(path, 'wb') as f:\n",
    "        w.write(f, label)\n",
    "\n",
    "def train(trainloader, net, criterion, optimizer, device, epoch):\n",
    "    '''\n",
    "    Function for training.\n",
    "    '''\n",
    "    start = time.time()\n",
    "    running_loss = 0.0\n",
    "    net = net.train()\n",
    "\n",
    "    epoch_loss = []\n",
    "    for images, labels in tqdm(trainloader):\n",
    "        images = images.to(device)\n",
    "        labels = labels.to(device)\n",
    "        optimizer.zero_grad()\n",
    "        output = net(images)\n",
    "        loss = criterion(output, labels)\n",
    "        loss.backward()\n",
    "        optimizer.step()\n",
    "        running_loss = loss.item()\n",
    "\n",
    "        epoch_loss.append(running_loss)\n",
    "    end = time.time()\n",
    "    print('[epoch %d] loss: %.3f elapsed time %.3f' %\n",
    "          (epoch, running_loss, end-start))\n",
    "    return epoch_loss\n",
    "\n",
    "def test(testloader, net, criterion, device):\n",
    "    '''\n",
    "    Function for testing.\n",
    "    '''\n",
    "    losses = 0.\n",
    "    cnt = 0\n",
    "    epoch_loss = []\n",
    "    with torch.no_grad():\n",
    "        net = net.eval()\n",
    "        for images, labels in tqdm(testloader):\n",
    "            images = images.to(device)\n",
    "            labels = labels.to(device)\n",
    "            output = net(images)\n",
    "            loss = criterion(output, labels)\n",
    "            epoch_loss.append(loss)\n",
    "            losses += loss.item()\n",
    "            cnt += 1\n",
    "    print(losses / cnt)\n",
    "    return epoch_loss\n",
    "\n",
    "\n",
    "def cal_AP(testloader, net, criterion, device):\n",
    "    '''\n",
    "    Calculate Average Precision\n",
    "    '''\n",
    "    losses = 0.\n",
    "    cnt = 0\n",
    "    with torch.no_grad():\n",
    "        net = net.eval()\n",
    "        preds = [[] for _ in range(5)]\n",
    "        heatmaps = [[] for _ in range(5)]\n",
    "        for images, labels in tqdm(testloader):\n",
    "            images = images.to(device)\n",
    "            labels = labels.to(device)\n",
    "            output = net(images).cpu().numpy()\n",
    "            for c in range(5):\n",
    "                preds[c].append(output[:, c].reshape(-1))\n",
    "                heatmaps[c].append(labels[:, c].cpu().numpy().reshape(-1))\n",
    "\n",
    "        aps = []\n",
    "        for c in range(5):\n",
    "            preds[c] = np.concatenate(preds[c])\n",
    "            heatmaps[c] = np.concatenate(heatmaps[c])\n",
    "            if heatmaps[c].max() == 0:\n",
    "                ap = float('nan')\n",
    "            else:\n",
    "                ap = ap_score(heatmaps[c], preds[c])\n",
    "                aps.append(ap)\n",
    "            print(\"AP = {}\".format(ap))\n",
    "    print(f\"Average AP: {np.average(aps)}\")\n",
    "    # print(losses / cnt)\n",
    "    return None\n",
    "\n",
    "\n",
    "def get_result(testloader, net, device, folder='/part3/output_train'):\n",
    "    result = []\n",
    "    with torch.no_grad():\n",
    "        net = net.eval()\n",
    "        cnt = 0\n",
    "        for images, labels in tqdm(testloader):\n",
    "            images = images.to(device)\n",
    "            labels = labels.to(device)\n",
    "            output = net(images)[0].cpu().numpy()\n",
    "            c, h, w = output.shape\n",
    "            assert(c == N_CLASS)\n",
    "            y = np.zeros((h,w)).astype('uint8')\n",
    "            for i in range(N_CLASS):\n",
    "                mask = output[i]>0.5\n",
    "                y[mask] = i\n",
    "            gt = labels.cpu().data.numpy().squeeze(0).astype('uint8')\n",
    "            save_label(y, './{}/y{}.png'.format(folder, cnt))\n",
    "            save_label(gt, './{}/gt{}.png'.format(folder, cnt))\n",
    "            plt.imsave(\n",
    "                './{}/x{}.png'.format(folder, cnt),\n",
    "                ((images[0].cpu().data.numpy()+1)*128).astype(np.uint8).transpose(1,2,0))\n",
    "\n",
    "            cnt += 1"
   ]
  },
  {
   "cell_type": "code",
   "execution_count": 52,
   "metadata": {},
   "outputs": [],
   "source": [
    "class FacadeDataset(Dataset):\n",
    "    def __init__(self, flag, dataDir='./part3/starter_set/', data_range=(0, 8), \\\n",
    "        n_class=5, onehot=False):\n",
    "        self.onehot = onehot\n",
    "        assert(flag in ['train', 'eval', 'test', 'test_dev', 'kaggle'])\n",
    "        print(\"load \"+ flag+\" dataset start\")\n",
    "        print(\"    from: %s\" % dataDir)\n",
    "        print(\"    range: [%d, %d)\" % (data_range[0], data_range[1]))\n",
    "        self.dataset = []\n",
    "        for i in range(data_range[0], data_range[1]):\n",
    "            img = Image.open(os.path.join(dataDir,flag,'eecs442_%04d.jpg' % i))\n",
    "\n",
    "            pngreader = png.Reader(filename=os.path.join(dataDir,flag,'eecs442_%04d.png' % i))\n",
    "            w,h,row,info = pngreader.read()\n",
    "            label = np.array(list(row)).astype('uint8')\n",
    "\n",
    "            # Normalize input image\n",
    "            img = np.asarray(img).astype(\"f\").transpose(2, 0, 1)/128.0-1.0\n",
    "            # Convert to n_class-dimensional onehot matrix\n",
    "            label_ = np.asarray(label)\n",
    "            label = np.zeros((n_class, img.shape[1], img.shape[2])).astype(\"i\")\n",
    "            for j in range(n_class):\n",
    "                label[j, :] = label_ == j\n",
    "            self.dataset.append((img, label))\n",
    "        print(\"load dataset done\")\n",
    "\n",
    "    def __len__(self):\n",
    "        return len(self.dataset)\n",
    "\n",
    "    def __getitem__(self, index):\n",
    "        img, label = self.dataset[index]\n",
    "        label = torch.FloatTensor(label)\n",
    "        if not self.onehot:\n",
    "            label = torch.argmax(label, dim=0)\n",
    "        else:\n",
    "            label = label.long()\n",
    "\n",
    "        return torch.FloatTensor(img), torch.LongTensor(label)"
   ]
  },
  {
   "cell_type": "code",
   "execution_count": 70,
   "metadata": {},
   "outputs": [],
   "source": [
    "class DownBlock(nn.Module):\n",
    "    def __init__(self,\n",
    "            in_channels,\n",
    "            out_channels,\n",
    "            pooling: bool = True\n",
    "            ):\n",
    "        super(DownBlock, self).__init__()\n",
    "        # Init Parameters\n",
    "        self.in_channels = in_channels\n",
    "        self.out_channels = out_channels\n",
    "        self.padding = 1\n",
    "        self.pooling = pooling\n",
    "\n",
    "        # Convolutional Layers\n",
    "        self.c1 = nn.Conv2d(self.in_channels, self.out_channels, \\\n",
    "            kernel_size= 3, padding=1, bias=False)\n",
    "        self.c2 = nn.Conv2d(self.out_channels, self.out_channels, \\\n",
    "            kernel_size= 3, padding=1, bias=False)\n",
    "\n",
    "        # Pooling Layer\n",
    "        if self.pooling:\n",
    "            self.pool = nn.MaxPool2d(kernel_size= 2, stride= 2)\n",
    "\n",
    "        # Normalization Layers\n",
    "        self.n1 = nn.BatchNorm2d(num_features=self.out_channels)\n",
    "        self.n2 = nn.BatchNorm2d(num_features=self.out_channels)\n",
    "\n",
    "    def forward(self, x):\n",
    "        x = F.relu(self.n1(self.c1(x)))\n",
    "        x = F.relu(self.n2(self.c2(x)))\n",
    "        bp = x\n",
    "        if self.pooling:\n",
    "            x = self.pool(x)\n",
    "        return x, bp\n",
    "\n",
    "class UpBlock(nn.Module):\n",
    "    def __init__(self,\n",
    "            in_channels,\n",
    "            out_channels,\n",
    "            ):\n",
    "        super(UpBlock, self).__init__()\n",
    "        self.in_channels = in_channels\n",
    "        self.out_channels = out_channels\n",
    "\n",
    "        # Upsample Layer\n",
    "        self.up = nn.ConvTranspose2d(in_channels, out_channels, \\\n",
    "            kernel_size= 2, stride=2, bias=False)\n",
    "\n",
    "        # Convolutional Layers\n",
    "        self.c1 = nn.Conv2d(in_channels= (2 * out_channels), out_channels= out_channels, \\\n",
    "            kernel_size= 3, padding= 1, bias=False)\n",
    "        self.c2 = nn.Conv2d(in_channels= out_channels, out_channels= out_channels, \\\n",
    "            kernel_size= 3, padding= 1, bias=False)\n",
    "\n",
    "        # Normalization Layers\n",
    "        self.n1 = nn.BatchNorm2d(num_features=self.out_channels)\n",
    "        self.n2 = nn.BatchNorm2d(num_features=self.out_channels)\n",
    "        self.n3 = nn.BatchNorm2d(num_features=self.out_channels)\n",
    "\n",
    "    def forward(self, down, up):\n",
    "        up = self.n1(self.up(up))\n",
    "        x = torch.cat((up,down), 1)\n",
    "        x = F.relu(self.n2(self.c1(x)))\n",
    "        x = F.relu(self.n3(self.c2(x)))\n",
    "        return x\n",
    "\n",
    "class Net(nn.Module):\n",
    "    def __init__(self):\n",
    "        super(Net, self).__init__()\n",
    "        self.n_class = N_CLASS\n",
    "        self.depth = 5\n",
    "        self.down_blks = []\n",
    "        self.up_blks = []\n",
    "        self.in_channels = 3\n",
    "        self.starting_filters = 32\n",
    "\n",
    "        # Create Down blocks\n",
    "        for i in range(self.depth):\n",
    "            in_channels = self.in_channels if i == 0 else out_channels\n",
    "            out_channels = self.starting_filters * (2**i)\n",
    "            pooling = True if i < self.depth - 1 else False\n",
    "\n",
    "            d_blk = DownBlock(in_channels, out_channels, pooling=pooling)\n",
    "            self.down_blks.append(d_blk)\n",
    "\n",
    "        # Create Up blocks\n",
    "        for i in range(self.depth - 1):\n",
    "            in_channels = out_channels \n",
    "            out_channels = in_channels // 2\n",
    "\n",
    "            u_blk = UpBlock(in_channels, out_channels)\n",
    "            self.up_blks.append(u_blk)\n",
    "\n",
    "        self.down_blks = nn.ModuleList(self.down_blks)\n",
    "        self.up_blks = nn.ModuleList(self.up_blks)\n",
    "\n",
    "        self.output = nn.Conv2d(out_channels, self.n_class, kernel_size= 1)\n",
    "\n",
    "        self.reset_params()\n",
    "\n",
    "    @staticmethod\n",
    "    def weight_init(m):\n",
    "        if isinstance(m, nn.Conv2d):\n",
    "            nn.init.xavier_normal_(m.weight)\n",
    "\n",
    "    def reset_params(self):\n",
    "        for i, m in enumerate(self.modules()):\n",
    "            self.weight_init(m)\n",
    "\n",
    "    def forward(self, x):\n",
    "        down_outs = []\n",
    "\n",
    "        for blk in self.down_blks:\n",
    "            x, bp = blk(x)\n",
    "            down_outs.append(bp)\n",
    "\n",
    "        for i, blk in enumerate(self.up_blks):\n",
    "            # Connect with previous down blocks\n",
    "            bp = down_outs[-(i+2)]\n",
    "            x = blk(bp, x)\n",
    "\n",
    "        x = self.output(x)\n",
    "        return x"
   ]
  },
  {
   "cell_type": "markdown",
   "metadata": {},
   "source": [
    "The model is using the U-Net architecture and has a depth of 5, meaning there are 5 blocks used to encode then 4 blocks used to decode. Each Up block (decode) is connected to a prior Down block (encode) by having an input that was not pooled to draw back on when going forward. The hyperparameters were mostly set by the default values given as starter code. the evaluation data was taken as the last 20% of the training data. Batch size was set to 32 for the training and evaluation data sets for the reduction of training time, rather than having a batch size of 1.\n",
    "\n",
    "Hyperparameters:\n",
    "* Batch size = 32\n",
    "* Learning Rate = $1e^{-3}$\n",
    "* Decay Weight = $1e^{-5}$\n",
    "* Number of Epoch = 10"
   ]
  },
  {
   "cell_type": "code",
   "execution_count": 157,
   "metadata": {},
   "outputs": [
    {
     "name": "stdout",
     "output_type": "stream",
     "text": [
      "load train dataset start\n",
      "    from: ./part3/starter_set/\n",
      "    range: [0, 724)\n",
      "load dataset done\n",
      "load test_dev dataset start\n",
      "    from: ./part3/starter_set/\n",
      "    range: [0, 114)\n",
      "load dataset done\n",
      "load test_dev dataset start\n",
      "    from: ./part3/starter_set/\n",
      "    range: [0, 114)\n",
      "load dataset done\n",
      "load train dataset start\n",
      "    from: ./part3/starter_set/\n",
      "    range: [724, 906)\n",
      "load dataset done\n"
     ]
    }
   ],
   "source": [
    "device = torch.device(\"cpu\")\n",
    "name = 'U_net'\n",
    "net = Net().to(device)\n",
    "criterion = nn.CrossEntropyLoss()\n",
    "optimizer = torch.optim.Adam(net.parameters(), 1e-3, weight_decay=1e-5)\n",
    "train_data = FacadeDataset(flag='train', data_range=(0,724), onehot=False)\n",
    "train_loader = DataLoader(train_data, batch_size=32)\n",
    "test_data = FacadeDataset(flag='test_dev', data_range=(0,114), onehot=False)\n",
    "test_loader = DataLoader(test_data, batch_size=1)\n",
    "ap_data = FacadeDataset(flag='test_dev', data_range=(0,114), onehot=True)\n",
    "ap_loader = DataLoader(ap_data, batch_size=1)\n",
    "\n",
    "evaluation_data = FacadeDataset(flag='train', data_range=(724,906), onehot=False)\n",
    "evaluation_loader = DataLoader(evaluation_data, batch_size=32) "
   ]
  },
  {
   "cell_type": "code",
   "execution_count": 158,
   "metadata": {},
   "outputs": [
    {
     "name": "stdout",
     "output_type": "stream",
     "text": [
      "\n",
      "Start training\n",
      "-----------------Epoch = 1-----------------\n"
     ]
    },
    {
     "name": "stderr",
     "output_type": "stream",
     "text": [
      "100%|██████████| 23/23 [05:01<00:00, 13.12s/it]\n"
     ]
    },
    {
     "name": "stdout",
     "output_type": "stream",
     "text": [
      "[epoch 1] loss: 1.138 elapsed time 301.689\n"
     ]
    },
    {
     "name": "stderr",
     "output_type": "stream",
     "text": [
      "100%|██████████| 6/6 [00:27<00:00,  4.65s/it]\n"
     ]
    },
    {
     "name": "stdout",
     "output_type": "stream",
     "text": [
      "1.515120228131612\n",
      "-----------------Epoch = 2-----------------\n"
     ]
    },
    {
     "name": "stderr",
     "output_type": "stream",
     "text": [
      "100%|██████████| 23/23 [05:00<00:00, 13.08s/it]\n"
     ]
    },
    {
     "name": "stdout",
     "output_type": "stream",
     "text": [
      "[epoch 2] loss: 0.929 elapsed time 300.807\n"
     ]
    },
    {
     "name": "stderr",
     "output_type": "stream",
     "text": [
      "100%|██████████| 6/6 [00:27<00:00,  4.63s/it]\n"
     ]
    },
    {
     "name": "stdout",
     "output_type": "stream",
     "text": [
      "1.038231372833252\n",
      "-----------------Epoch = 3-----------------\n"
     ]
    },
    {
     "name": "stderr",
     "output_type": "stream",
     "text": [
      "100%|██████████| 23/23 [05:00<00:00, 13.08s/it]\n"
     ]
    },
    {
     "name": "stdout",
     "output_type": "stream",
     "text": [
      "[epoch 3] loss: 0.862 elapsed time 300.943\n"
     ]
    },
    {
     "name": "stderr",
     "output_type": "stream",
     "text": [
      "100%|██████████| 6/6 [00:27<00:00,  4.62s/it]\n"
     ]
    },
    {
     "name": "stdout",
     "output_type": "stream",
     "text": [
      "0.8705151677131653\n",
      "-----------------Epoch = 4-----------------\n"
     ]
    },
    {
     "name": "stderr",
     "output_type": "stream",
     "text": [
      "100%|██████████| 23/23 [05:00<00:00, 13.07s/it]\n"
     ]
    },
    {
     "name": "stdout",
     "output_type": "stream",
     "text": [
      "[epoch 4] loss: 0.777 elapsed time 300.676\n"
     ]
    },
    {
     "name": "stderr",
     "output_type": "stream",
     "text": [
      "100%|██████████| 6/6 [00:27<00:00,  4.64s/it]\n"
     ]
    },
    {
     "name": "stdout",
     "output_type": "stream",
     "text": [
      "0.8403385976950327\n",
      "-----------------Epoch = 5-----------------\n"
     ]
    },
    {
     "name": "stderr",
     "output_type": "stream",
     "text": [
      "100%|██████████| 23/23 [05:00<00:00, 13.08s/it]\n"
     ]
    },
    {
     "name": "stdout",
     "output_type": "stream",
     "text": [
      "[epoch 5] loss: 0.709 elapsed time 300.789\n"
     ]
    },
    {
     "name": "stderr",
     "output_type": "stream",
     "text": [
      "100%|██████████| 6/6 [00:27<00:00,  4.62s/it]\n"
     ]
    },
    {
     "name": "stdout",
     "output_type": "stream",
     "text": [
      "0.8309109310309092\n",
      "-----------------Epoch = 6-----------------\n"
     ]
    },
    {
     "name": "stderr",
     "output_type": "stream",
     "text": [
      "100%|██████████| 23/23 [05:00<00:00, 13.07s/it]\n"
     ]
    },
    {
     "name": "stdout",
     "output_type": "stream",
     "text": [
      "[epoch 6] loss: 0.666 elapsed time 300.499\n"
     ]
    },
    {
     "name": "stderr",
     "output_type": "stream",
     "text": [
      "100%|██████████| 6/6 [00:27<00:00,  4.62s/it]\n"
     ]
    },
    {
     "name": "stdout",
     "output_type": "stream",
     "text": [
      "0.772123912970225\n",
      "-----------------Epoch = 7-----------------\n"
     ]
    },
    {
     "name": "stderr",
     "output_type": "stream",
     "text": [
      "100%|██████████| 23/23 [05:00<00:00, 13.08s/it]\n"
     ]
    },
    {
     "name": "stdout",
     "output_type": "stream",
     "text": [
      "[epoch 7] loss: 0.632 elapsed time 300.764\n"
     ]
    },
    {
     "name": "stderr",
     "output_type": "stream",
     "text": [
      "100%|██████████| 6/6 [00:27<00:00,  4.64s/it]\n"
     ]
    },
    {
     "name": "stdout",
     "output_type": "stream",
     "text": [
      "0.7464031378428141\n",
      "-----------------Epoch = 8-----------------\n"
     ]
    },
    {
     "name": "stderr",
     "output_type": "stream",
     "text": [
      "100%|██████████| 23/23 [05:00<00:00, 13.07s/it]\n"
     ]
    },
    {
     "name": "stdout",
     "output_type": "stream",
     "text": [
      "[epoch 8] loss: 0.608 elapsed time 300.543\n"
     ]
    },
    {
     "name": "stderr",
     "output_type": "stream",
     "text": [
      "100%|██████████| 6/6 [00:27<00:00,  4.62s/it]\n"
     ]
    },
    {
     "name": "stdout",
     "output_type": "stream",
     "text": [
      "0.6938575605551401\n",
      "-----------------Epoch = 9-----------------\n"
     ]
    },
    {
     "name": "stderr",
     "output_type": "stream",
     "text": [
      "100%|██████████| 23/23 [05:00<00:00, 13.06s/it]\n"
     ]
    },
    {
     "name": "stdout",
     "output_type": "stream",
     "text": [
      "[epoch 9] loss: 0.575 elapsed time 300.497\n"
     ]
    },
    {
     "name": "stderr",
     "output_type": "stream",
     "text": [
      "100%|██████████| 6/6 [00:27<00:00,  4.61s/it]\n"
     ]
    },
    {
     "name": "stdout",
     "output_type": "stream",
     "text": [
      "0.6667851110299429\n",
      "-----------------Epoch = 10-----------------\n"
     ]
    },
    {
     "name": "stderr",
     "output_type": "stream",
     "text": [
      "100%|██████████| 23/23 [05:00<00:00, 13.07s/it]\n"
     ]
    },
    {
     "name": "stdout",
     "output_type": "stream",
     "text": [
      "[epoch 10] loss: 0.552 elapsed time 300.601\n"
     ]
    },
    {
     "name": "stderr",
     "output_type": "stream",
     "text": [
      "100%|██████████| 6/6 [00:27<00:00,  4.63s/it]"
     ]
    },
    {
     "name": "stdout",
     "output_type": "stream",
     "text": [
      "0.6332726081212362\n"
     ]
    },
    {
     "name": "stderr",
     "output_type": "stream",
     "text": [
      "\n"
     ]
    }
   ],
   "source": [
    "print('\\nStart training')\n",
    "total_loss = []\n",
    "val_loss = []\n",
    "for epoch in range(10):\n",
    "    print('-----------------Epoch = %d-----------------' % (epoch+1))\n",
    "    train_loss = train(train_loader, net, criterion, optimizer, device, epoch+1)\n",
    "    test_loss = test(evaluation_loader, net, criterion, device)\n",
    "    total_loss += train_loss\n",
    "    val_loss += test_loss\n"
   ]
  },
  {
   "cell_type": "code",
   "execution_count": 159,
   "metadata": {},
   "outputs": [
    {
     "data": {
      "image/png": "[encoded data removed]",
      "text/plain": [
       "<Figure size 640x480 with 1 Axes>"
      ]
     },
     "metadata": {},
     "output_type": "display_data"
    }
   ],
   "source": [
    "plt.plot(total_loss)\n",
    "plt.xlabel(\"Iterations\")\n",
    "plt.ylabel(\"Loss\")\n",
    "plt.title(\"Iterations vs Training Loss\")\n",
    "plt.show()"
   ]
  },
  {
   "cell_type": "code",
   "execution_count": 160,
   "metadata": {},
   "outputs": [
    {
     "data": {
      "image/png": "[encoded data removed]",
      "text/plain": [
       "<Figure size 640x480 with 1 Axes>"
      ]
     },
     "metadata": {},
     "output_type": "display_data"
    }
   ],
   "source": [
    "plt.plot(val_loss)\n",
    "plt.xlabel(\"Iterations\")\n",
    "plt.ylabel(\"Loss\")\n",
    "plt.title(\"Iterations vs Validation Loss\")\n",
    "plt.show()"
   ]
  },
  {
   "cell_type": "code",
   "execution_count": 144,
   "metadata": {},
   "outputs": [
    {
     "name": "stdout",
     "output_type": "stream",
     "text": [
      "\n",
      "Finished Training, Testing on test set\n"
     ]
    },
    {
     "name": "stderr",
     "output_type": "stream",
     "text": [
      "100%|██████████| 114/114 [00:21<00:00,  5.30it/s]"
     ]
    },
    {
     "name": "stdout",
     "output_type": "stream",
     "text": [
      "0.7036228030920029\n"
     ]
    },
    {
     "name": "stderr",
     "output_type": "stream",
     "text": [
      "\n"
     ]
    },
    {
     "data": {
      "text/plain": [
       "0.7036228030920029"
      ]
     },
     "execution_count": 144,
     "metadata": {},
     "output_type": "execute_result"
    }
   ],
   "source": [
    "print('\\nFinished Training, Testing on test set')\n",
    "test(test_loader, net, criterion, device)"
   ]
  },
  {
   "cell_type": "code",
   "execution_count": 143,
   "metadata": {},
   "outputs": [
    {
     "name": "stderr",
     "output_type": "stream",
     "text": [
      "100%|██████████| 114/114 [00:21<00:00,  5.31it/s]\n"
     ]
    },
    {
     "name": "stdout",
     "output_type": "stream",
     "text": [
      "AP = 0.7033714533438625\n",
      "AP = 0.8102144067937866\n",
      "AP = 0.16917578910003675\n",
      "AP = 0.8901711977985988\n",
      "AP = 0.7126497817640007\n",
      "Average AP: 0.6571165257600571\n"
     ]
    }
   ],
   "source": [
    "cal_AP(ap_loader, net, criterion, device)"
   ]
  },
  {
   "cell_type": "code",
   "execution_count": 145,
   "metadata": {},
   "outputs": [
    {
     "name": "stdout",
     "output_type": "stream",
     "text": [
      "\n",
      "Generating Unlabeled Result\n"
     ]
    },
    {
     "name": "stderr",
     "output_type": "stream",
     "text": [
      "100%|██████████| 114/114 [00:27<00:00,  4.07it/s]\n"
     ]
    }
   ],
   "source": [
    "print('\\nGenerating Unlabeled Result')\n",
    "result = get_result(test_loader, net, device, folder='/part3/output_test')\n",
    "\n",
    "torch.save(net.state_dict(), './part3/models/model_{}.pth'.format(name))"
   ]
  },
  {
   "cell_type": "code",
   "execution_count": 106,
   "metadata": {},
   "outputs": [],
   "source": [
    "def get_seg(image, net, folder='/part3'):\n",
    "    with torch.no_grad():\n",
    "        net = net.eval()\n",
    "        output = net(image)[0].cpu().numpy()\n",
    "        c, h, w = output.shape\n",
    "        assert(c == N_CLASS)\n",
    "        y = np.zeros((h,w)).astype('uint8')\n",
    "        for i in range(N_CLASS):\n",
    "            mask = output[i]>0.5\n",
    "            y[mask] = i\n",
    "        save_label(y, './{}/Q3_Output.png'.format(folder))\n",
    "        print(\"Finished Output!\")"
   ]
  },
  {
   "cell_type": "code",
   "execution_count": 111,
   "metadata": {},
   "outputs": [
    {
     "name": "stdout",
     "output_type": "stream",
     "text": [
      "Finished Output!\n"
     ]
    }
   ],
   "source": [
    "img = Image.open('./part3/Q3_Input.jpg')\n",
    "x = transforms.functional.to_tensor(img)\n",
    "x = x.unsqueeze(0)\n",
    "\n",
    "get_seg(x, net)"
   ]
  },
  {
   "cell_type": "code",
   "execution_count": 134,
   "metadata": {},
   "outputs": [
    {
     "data": {
      "image/png": "[encoded data removed]",
      "text/plain": [
       "<Figure size 640x480 with 2 Axes>"
      ]
     },
     "metadata": {},
     "output_type": "display_data"
    }
   ],
   "source": [
    "input = plt.imread(\"./part3/Q3_Input.jpg\")\n",
    "output = plt.imread(\"./part3/Q3_Output.png\")\n",
    "\n",
    "f = plt.figure()\n",
    "f.add_subplot(1,2, 1)\n",
    "plt.imshow(input)\n",
    "plt.axis(\"off\")\n",
    "plt.title(\"Input\")\n",
    "f.add_subplot(1,2, 2)\n",
    "plt.imshow(output)\n",
    "plt.axis(\"off\")\n",
    "plt.title(\"Output\")\n",
    "plt.show(block=True)"
   ]
  },
  {
   "cell_type": "markdown",
   "metadata": {},
   "source": [
    "All the top windows were labeled correctly, but the bottom left was hard to recognize, most likely due to the shadowing. The output could have been better if the image was better normalized. The stylized indents should have been black, which some are labeled correctly, but most are recognized as red (balcony). This is most likely due to the model not having been trained to recognized this specific feature. This feature is from an Arabic house, so it might not align with the given dataset to train on. Another issue was that the facade inbetween the windows is being labeled as pillars. What caused this is probably the depth of the darkness of the adjacent windows. It's very apparent that the dark windows makes the inbetween seem like pillars to the model."
   ]
  }
 ],
 "metadata": {
  "kernelspec": {
   "display_name": "Python 3.7.9 64-bit",
   "language": "python",
   "name": "python3"
  },
  "language_info": {
   "codemirror_mode": {
    "name": "ipython",
    "version": 3
   },
   "file_extension": ".py",
   "mimetype": "text/x-python",
   "name": "python",
   "nbconvert_exporter": "python",
   "pygments_lexer": "ipython3",
   "version": "3.7.9"
  },
  "orig_nbformat": 4,
  "vscode": {
   "interpreter": {
    "hash": "ba638da1d2555046f6c036f3b55f96640e14b9ae1bacb866420559fab20bdea2"
   }
  }
 },
 "nbformat": 4,
 "nbformat_minor": 2
}
